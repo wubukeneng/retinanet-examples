{
 "cells": [
  {
   "cell_type": "code",
   "execution_count": 13,
   "metadata": {},
   "outputs": [],
   "source": [
    "%reload_ext autoreload\n",
    "%autoreload 2\n",
    "\n",
    "import os\n",
    "import json\n",
    "\n",
    "import matplotlib\n",
    "import numpy as np\n",
    "import pandas as pd\n",
    "from sklearn.model_selection import train_test_split"
   ]
  },
  {
   "cell_type": "code",
   "execution_count": 3,
   "metadata": {},
   "outputs": [],
   "source": [
    "data_root = '~/data/rsna'"
   ]
  },
  {
   "cell_type": "code",
   "execution_count": 4,
   "metadata": {},
   "outputs": [
    {
     "name": "stdout",
     "output_type": "stream",
     "text": [
      "                              patientId                         class\n",
      "0  0004cfab-14fd-4e49-80ba-63a80b6bddd6  No Lung Opacity / Not Normal\n",
      "1  00313ee0-9eaa-42f4-b0ab-c148ed3241cd  No Lung Opacity / Not Normal\n",
      "2  00322d4d-1c29-4943-afc9-b6754be640eb  No Lung Opacity / Not Normal\n",
      "3  003d8fa0-6bf1-40ed-b54c-ac657f8495c5                        Normal\n",
      "4  00436515-870c-4b36-a041-de91049b9ab4                  Lung Opacity\n",
      "                              patientId      x      y  width  height  Target\n",
      "0  0004cfab-14fd-4e49-80ba-63a80b6bddd6    NaN    NaN    NaN     NaN       0\n",
      "1  00313ee0-9eaa-42f4-b0ab-c148ed3241cd    NaN    NaN    NaN     NaN       0\n",
      "2  00322d4d-1c29-4943-afc9-b6754be640eb    NaN    NaN    NaN     NaN       0\n",
      "3  003d8fa0-6bf1-40ed-b54c-ac657f8495c5    NaN    NaN    NaN     NaN       0\n",
      "4  00436515-870c-4b36-a041-de91049b9ab4  264.0  152.0  213.0   379.0       1\n"
     ]
    }
   ],
   "source": [
    "cls_df = pd.read_csv(os.path.join(data_root, 'anno/stage_2_detailed_class_info.csv'))\n",
    "bbox_df = pd.read_csv(os.path.join(data_root, 'anno/stage_2_train_labels.csv'))\n",
    "\n",
    "print(cls_df.head())\n",
    "print(bbox_df.head())"
   ]
  },
  {
   "cell_type": "code",
   "execution_count": 32,
   "metadata": {},
   "outputs": [],
   "source": [
    "# split train and val for samples with target == 1\n",
    "\n",
    "all_bbox_df = bbox_df[bbox_df['Target']==1]\n",
    "\n",
    "all_ids = list(set(all_bbox_df['patientId']))\n",
    "\n",
    "train_ids, val_ids = train_test_split(all_ids, test_size=0.2)\n",
    "\n",
    "def convert_to_coco(df, ids):\n",
    "    anno_list = []\n",
    "    image_list = []\n",
    "    cat_list = [{ 'id': 0 }]\n",
    "    \n",
    "    bbox_id = 0\n",
    "\n",
    "    for i, unique_id in enumerate(ids):\n",
    "        image_list.append({\n",
    "            'id': i,\n",
    "            'file_name': '{}.jpg'.format(unique_id)\n",
    "        })\n",
    "        \n",
    "        id_df = df[df['patientId']==unique_id]\n",
    "        \n",
    "        for row in id_df.itertuples():\n",
    "            image_id = getattr(row, 'patientId')\n",
    "            x = float(getattr(row, 'x'))\n",
    "            y = float(getattr(row, 'y'))\n",
    "            w = float(getattr(row, 'width'))\n",
    "            h = float(getattr(row, 'height'))\n",
    "            \n",
    "            anno_list.append({\n",
    "                'id': bbox_id,\n",
    "                'image_id': i,\n",
    "                'category_id': 0,\n",
    "                'bbox': [x, y, w, h],\n",
    "                'area': w*h,\n",
    "                'iscrowd': 0\n",
    "            })\n",
    "            \n",
    "            bbox_id += 1\n",
    "        \n",
    "    json_dict = {\n",
    "        'images': image_list,\n",
    "        'annotations': anno_list,\n",
    "        'categories': cat_list\n",
    "    }\n",
    "    \n",
    "    return json.dumps(json.loads(json.dumps(json_dict), parse_float=lambda x: round(float(x), 1)), indent=4, separators=(',', ': '))\n",
    "\n",
    "train_json = convert_to_coco(all_bbox_df, train_ids)\n",
    "val_json = convert_to_coco(all_bbox_df, val_ids)\n",
    "\n",
    "with open('train.json', 'w') as train_file:\n",
    "    train_file.write(train_json)\n",
    "    \n",
    "with open('val.json', 'w') as val_file:\n",
    "    val_file.write(val_json)"
   ]
  },
  {
   "cell_type": "code",
   "execution_count": null,
   "metadata": {},
   "outputs": [],
   "source": []
  },
  {
   "cell_type": "code",
   "execution_count": null,
   "metadata": {},
   "outputs": [],
   "source": []
  }
 ],
 "metadata": {
  "kernelspec": {
   "display_name": "Python (rsna)",
   "language": "python",
   "name": "rsna"
  },
  "language_info": {
   "codemirror_mode": {
    "name": "ipython",
    "version": 3
   },
   "file_extension": ".py",
   "mimetype": "text/x-python",
   "name": "python",
   "nbconvert_exporter": "python",
   "pygments_lexer": "ipython3",
   "version": "3.7.4"
  }
 },
 "nbformat": 4,
 "nbformat_minor": 4
}
